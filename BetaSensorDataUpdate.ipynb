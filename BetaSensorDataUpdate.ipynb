{
 "metadata": {
  "name": "",
  "signature": "sha256:b7801ac1f09b5f32dc2f49dcd4ac01b6ab627c517c82d5ebda0df715c4261675"
 },
 "nbformat": 3,
 "nbformat_minor": 0,
 "worksheets": [
  {
   "cells": [
    {
     "cell_type": "code",
     "collapsed": false,
     "input": [
      "import psycopg2\n",
      "import datetime\n",
      "import csv"
     ],
     "language": "python",
     "metadata": {},
     "outputs": [],
     "prompt_number": 1
    },
    {
     "cell_type": "code",
     "collapsed": false,
     "input": [
      "#Establish database connection and create sensor data table\n",
      "dbconn=psycopg2.connect(host=\"aklpdb22.pfr.co.nz\",user=\"rainshelterwrite\", password=\"luverly Jubbly\", database=\"rainshelter\")\n",
      "dbcursor = dbconn.cursor()\n",
      "dbcursor.execute(\"CREATE TABLE betasensordata(Time timestamp, SensorID varchar, Measurement double precision)\")\n",
      "dbconn.commit()\n",
      "dbconn.close()"
     ],
     "language": "python",
     "metadata": {},
     "outputs": [],
     "prompt_number": 2
    },
    {
     "cell_type": "code",
     "collapsed": false,
     "input": [
      "#Open data file and read line line containing column names.\n",
      "sensor_data_file = 'K:\\\\Rainshelter\\\\Barley_2014_15\\\\LoggedData\\\\RainShelterBeta_Energy.dat'\n",
      "with open (sensor_data_file, 'rb') as data_file:\n",
      "    file_data = csv.reader(data_file, delimiter=\",\")\n",
      "    rownum = 0\n",
      "    for row in file_data:   \n",
      "        if rownum == 1: \n",
      "            header_line = row\n",
      "        rownum+=1\n",
      "data_file.close()"
     ],
     "language": "python",
     "metadata": {},
     "outputs": [],
     "prompt_number": 3
    },
    {
     "cell_type": "code",
     "collapsed": false,
     "input": [
      "with open (sensor_data_file, 'rb') as data_file:\n",
      "    file_data = csv.reader(data_file, delimiter=\",\")\n",
      "    rownum = 0\n",
      "    for row in file_data:   \n",
      "        if rownum > 3: \n",
      "            data_line = row\n",
      "            data_line[0] = \"'\" + data_line[0] + \"'\"\n",
      "            insert_sql = \"\"\n",
      "            for i in range (len(data_line)):\n",
      "                if i > 0:\n",
      "                    column = \"'\" + header_line[i] + \"'\"\n",
      "                    value = data_line[i]\n",
      "                    if value == \"NAN\":\n",
      "                        value = \"NULL\"\n",
      "                    insert_values = data_line[0] + \",\" + column + \",\" + value\n",
      "                    #print insert_values \n",
      "            #insert_values = \",\".join(data_line)\n",
      "            #insert_values = insert_values.replace(\"NAN\", \"NULL\")\n",
      "                    insert_data_sql=\"INSERT INTO betasensordata VALUES ( \" + insert_values + \" );\"\n",
      "                    insert_sql += insert_data_sql\n",
      "            #print insert_sql\n",
      "                    #print insert_data_sql\n",
      "            dbconn=psycopg2.connect(host=\"aklpdb22.pfr.co.nz\",user=\"rainshelterwrite\", password=\"luverly Jubbly\", database=\"rainshelter\")\n",
      "            dbcursor = dbconn.cursor()\n",
      "            dbcursor.execute(insert_sql)\n",
      "            dbconn.commit()\n",
      "            dbconn.close()\n",
      "        rownum+=1\n",
      "data_file.close()"
     ],
     "language": "python",
     "metadata": {},
     "outputs": [
      {
       "ename": "ProgrammingError",
       "evalue": "column \"inf\" does not exist\nLINE 1: ...ALUES ( '2014-11-26 12:00:00','LeafWet_kohms_Avg',INF );INSE...\n                                                             ^\n",
       "output_type": "pyerr",
       "traceback": [
        "\u001b[1;31m---------------------------------------------------------------------------\u001b[0m\n\u001b[1;31mProgrammingError\u001b[0m                          Traceback (most recent call last)",
        "\u001b[1;32m<ipython-input-5-95f3debc6df7>\u001b[0m in \u001b[0;36m<module>\u001b[1;34m()\u001b[0m\n\u001b[0;32m     23\u001b[0m             \u001b[0mdbconn\u001b[0m\u001b[1;33m=\u001b[0m\u001b[0mpsycopg2\u001b[0m\u001b[1;33m.\u001b[0m\u001b[0mconnect\u001b[0m\u001b[1;33m(\u001b[0m\u001b[0mhost\u001b[0m\u001b[1;33m=\u001b[0m\u001b[1;34m\"aklpdb22.pfr.co.nz\"\u001b[0m\u001b[1;33m,\u001b[0m\u001b[0muser\u001b[0m\u001b[1;33m=\u001b[0m\u001b[1;34m\"rainshelterwrite\"\u001b[0m\u001b[1;33m,\u001b[0m \u001b[0mpassword\u001b[0m\u001b[1;33m=\u001b[0m\u001b[1;34m\"luverly Jubbly\"\u001b[0m\u001b[1;33m,\u001b[0m \u001b[0mdatabase\u001b[0m\u001b[1;33m=\u001b[0m\u001b[1;34m\"rainshelter\"\u001b[0m\u001b[1;33m)\u001b[0m\u001b[1;33m\u001b[0m\u001b[0m\n\u001b[0;32m     24\u001b[0m             \u001b[0mdbcursor\u001b[0m \u001b[1;33m=\u001b[0m \u001b[0mdbconn\u001b[0m\u001b[1;33m.\u001b[0m\u001b[0mcursor\u001b[0m\u001b[1;33m(\u001b[0m\u001b[1;33m)\u001b[0m\u001b[1;33m\u001b[0m\u001b[0m\n\u001b[1;32m---> 25\u001b[1;33m             \u001b[0mdbcursor\u001b[0m\u001b[1;33m.\u001b[0m\u001b[0mexecute\u001b[0m\u001b[1;33m(\u001b[0m\u001b[0minsert_sql\u001b[0m\u001b[1;33m)\u001b[0m\u001b[1;33m\u001b[0m\u001b[0m\n\u001b[0m\u001b[0;32m     26\u001b[0m             \u001b[0mdbconn\u001b[0m\u001b[1;33m.\u001b[0m\u001b[0mcommit\u001b[0m\u001b[1;33m(\u001b[0m\u001b[1;33m)\u001b[0m\u001b[1;33m\u001b[0m\u001b[0m\n\u001b[0;32m     27\u001b[0m             \u001b[0mdbconn\u001b[0m\u001b[1;33m.\u001b[0m\u001b[0mclose\u001b[0m\u001b[1;33m(\u001b[0m\u001b[1;33m)\u001b[0m\u001b[1;33m\u001b[0m\u001b[0m\n",
        "\u001b[1;31mProgrammingError\u001b[0m: column \"inf\" does not exist\nLINE 1: ...ALUES ( '2014-11-26 12:00:00','LeafWet_kohms_Avg',INF );INSE...\n                                                             ^\n"
       ]
      }
     ],
     "prompt_number": 5
    }
   ],
   "metadata": {}
  }
 ]
}