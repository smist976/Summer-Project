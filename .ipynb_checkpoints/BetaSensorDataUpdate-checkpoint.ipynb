{
 "metadata": {
  "name": "",
  "signature": "sha256:2d1f327789a103d02aee7f75f6aec57608405e7704b191ff8cc7503ca7aaf1f1"
 },
 "nbformat": 3,
 "nbformat_minor": 0,
 "worksheets": [
  {
   "cells": [
    {
     "cell_type": "code",
     "collapsed": false,
     "input": [
      "import psycopg2\n",
      "import datetime\n",
      "import csv"
     ],
     "language": "python",
     "metadata": {},
     "outputs": [],
     "prompt_number": 1
    },
    {
     "cell_type": "code",
     "collapsed": false,
     "input": [
      "#Establish database connection and create sensor data table\n",
      "dbconn=psycopg2.connect(host=\"aklpdb22.pfr.co.nz\",user=\"rainshelterwrite\", password=\"luverly Jubbly\", database=\"rainshelter\")\n",
      "dbcursor = dbconn.cursor()\n",
      "dbcursor.execute(\"CREATE TABLE betasensordata(Time timestamp, SensorID varchar, Measurement double precision)\")\n",
      "dbconn.commit()\n",
      "dbconn.close()"
     ],
     "language": "python",
     "metadata": {},
     "outputs": [],
     "prompt_number": 2
    },
    {
     "cell_type": "code",
     "collapsed": false,
     "input": [
      "#Open data file and read line line containing column names.\n",
      "sensor_data_file = 'K:\\\\Rainshelter\\\\Barley_2014_15\\\\LoggedData\\\\RainShelterBeta_Energy.dat'\n",
      "with open (sensor_data_file, 'rb') as data_file:\n",
      "    file_data = csv.reader(data_file, delimiter=\",\")\n",
      "    rownum = 0\n",
      "    for row in file_data:   \n",
      "        if rownum == 1: \n",
      "            header_line = row\n",
      "        rownum+=1\n",
      "data_file.close()"
     ],
     "language": "python",
     "metadata": {},
     "outputs": [],
     "prompt_number": 3
    },
    {
     "cell_type": "code",
     "collapsed": false,
     "input": [
      "with open (sensor_data_file, 'rb') as data_file:\n",
      "    file_data = csv.reader(data_file, delimiter=\",\")\n",
      "    rownum = 0\n",
      "    for row in file_data:   \n",
      "        if rownum > 3: \n",
      "            data_line = row\n",
      "            data_line[0] = \"'\" + data_line[0] + \"'\"\n",
      "            insert_sql = \"\"\n",
      "            for i in range (len(data_line)):\n",
      "                if i > 0:\n",
      "                    column = \"'\" + header_line[i] + \"'\"\n",
      "                    value = data_line[i]\n",
      "                    if value == \"NAN\":\n",
      "                        value = \"NULL\"\n",
      "                    insert_values = data_line[0] + \",\" + column + \",\" + value\n",
      "                    #print insert_values \n",
      "            #insert_values = \",\".join(data_line)\n",
      "            #insert_values = insert_values.replace(\"NAN\", \"NULL\")\n",
      "                    insert_data_sql=\"INSERT INTO betasensordata VALUES ( \" + insert_values + \" );\"\n",
      "                    insert_sql += insert_data_sql\n",
      "            #print insert_sql\n",
      "                    #print insert_data_sql\n",
      "            dbconn=psycopg2.connect(host=\"aklpdb22.pfr.co.nz\",user=\"rainshelterwrite\", password=\"luverly Jubbly\", database=\"rainshelter\")\n",
      "            dbcursor = dbconn.cursor()\n",
      "            dbcursor.execute(insert_sql)\n",
      "            dbconn.commit()\n",
      "            dbconn.close()\n",
      "        rownum+=1\n",
      "data_file.close()"
     ],
     "language": "python",
     "metadata": {},
     "outputs": []
    }
   ],
   "metadata": {}
  }
 ]
}