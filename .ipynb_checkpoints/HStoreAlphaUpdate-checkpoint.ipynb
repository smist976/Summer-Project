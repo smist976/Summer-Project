{
 "metadata": {
  "name": "",
  "signature": "sha256:432ceae204bbf89ceec8bb21df8affc3bb8a31ddf5bed455addeb3b350c2a480"
 },
 "nbformat": 3,
 "nbformat_minor": 0,
 "worksheets": [
  {
   "cells": [
    {
     "cell_type": "code",
     "collapsed": false,
     "input": [
      "import pandas as pd\n",
      "import numpy as np\n",
      "import psycopg2\n",
      "import datetime\n",
      "import csv\n",
      "import psycopg2.extras "
     ],
     "language": "python",
     "metadata": {},
     "outputs": [],
     "prompt_number": 99
    },
    {
     "cell_type": "code",
     "collapsed": false,
     "input": [
      "#Establish database connection and create sensor data table\n",
      "dbconn=psycopg2.connect(host=\"aklpdb22.pfr.co.nz\",user=\"rainshelterwrite\", password=\"luverly Jubbly\", database=\"rainshelter\")\n",
      "dbcursor = dbconn.cursor()\n",
      "dbcursor.execute(\"CREATE TABLE hstoretest(Time timestamp, Data hstore )\")\n",
      "dbconn.commit()\n",
      "dbconn.close()"
     ],
     "language": "python",
     "metadata": {},
     "outputs": [],
     "prompt_number": 103
    },
    {
     "cell_type": "code",
     "collapsed": false,
     "input": [
      "#Open data file and read line line containing column names.\n",
      "sensor_data_file = 'K:\\\\Rainshelter\\\\Barley_2014_15\\\\LoggedData\\\\RainShelterAlpha_CS650.dat'\n",
      "with open (sensor_data_file, 'rb') as data_file:\n",
      "    file_data = csv.reader(data_file, delimiter=\",\")\n",
      "    rownum = 0\n",
      "    for row in file_data:\n",
      "        theDict ={}\n",
      "        if rownum == 1: \n",
      "            header_line = row\n",
      "        if rownum > 3:\n",
      "            data_line = row \n",
      "            for j in range (len(data_line)):\n",
      "                key = header_line[j]\n",
      "                value = data_line[j]\n",
      "                if value == \"NAN\";\n",
      "                    value=\"NULL\"\n",
      "                theDict[key]=value\n",
      "                time_value = theDict[\"TIMESTAMP\"]\n",
      "                time_value = \"'\" + time_value + \"'\" \n",
      "            \n",
      "               \n",
      "            dbconn=psycopg2.connect(host=\"aklpdb22.pfr.co.nz\",user=\"rainshelterwrite\", password=\"luverly Jubbly\", database=\"rainshelter\")\n",
      "            psycopg2.extras.register_hstore(dbconn)\n",
      "            dbcursor = dbconn.cursor()\n",
      "            dbcursor.execute\n",
      "            dbcursor.execute(\"INSERT INTO hstoretest (Time, Data) VALUES ( \" + time_value + \" , %s)\", [theDict])  \n",
      "            dbconn.commit()\n",
      "            dbconn.close()\n",
      "\n",
      "        rownum+=1\n",
      "data_file.close()"
     ],
     "language": "python",
     "metadata": {},
     "outputs": [],
     "prompt_number": 106
    }
   ],
   "metadata": {}
  }
 ]
}