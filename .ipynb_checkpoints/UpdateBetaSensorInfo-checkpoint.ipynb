{
 "metadata": {
  "name": "",
  "signature": "sha256:227cacb3f56a7e36ffa24d43fea213d701bda262a6fa5e771e7cc39164bdae81"
 },
 "nbformat": 3,
 "nbformat_minor": 0,
 "worksheets": [
  {
   "cells": [
    {
     "cell_type": "code",
     "collapsed": false,
     "input": [
      "import psycopg2\n",
      "import datetime\n",
      "import csv"
     ],
     "language": "python",
     "metadata": {},
     "outputs": [],
     "prompt_number": 26
    },
    {
     "cell_type": "code",
     "collapsed": false,
     "input": [
      "#Establish database connection and create sensor data table\n",
      "dbconn=psycopg2.connect(host=\"aklpdb22.pfr.co.nz\",user=\"rainshelterwrite\", password=\"luverly Jubbly\", database=\"rainshelter\")\n",
      "dbcursor = dbconn.cursor()\n",
      "dbcursor.execute('begin transaction')\n",
      "dbcursor.execute(\"CREATE TABLE betasensorinfo()\")\n",
      "dbconn.commit()\n",
      "dbconn.close()"
     ],
     "language": "python",
     "metadata": {},
     "outputs": [],
     "prompt_number": 27
    },
    {
     "cell_type": "code",
     "collapsed": false,
     "input": [
      "#Open data file and read line line containing column names.\n",
      "sensor_data_file = 'C:\\\\GitHubRepos\\RainShelterBarley\\RadiationAndTempIndex.csv'\n",
      "with open (sensor_data_file, 'rb') as data_file:\n",
      "    file_data = csv.reader(data_file, delimiter=\",\")\n",
      "    rownum = 0\n",
      "    for row in file_data:   \n",
      "        if rownum == 0: \n",
      "            header_line = row\n",
      "        rownum+=1\n",
      "data_file.close()\n",
      "#print header_line"
     ],
     "language": "python",
     "metadata": {},
     "outputs": [],
     "prompt_number": 28
    },
    {
     "cell_type": "code",
     "collapsed": false,
     "input": [
      "#Insert column header \n",
      "add_header_sql = \"ALTER TABLE betasensorinfo ADD COLUMN sensorid varchar NOT NULL, ADD COLUMN \" + header_line[1] + \" varchar, ADD COLUMN \" + header_line[2] + \" char(3), ADD COLUMN \" + header_line[3]+ \" varchar, ADD COLUMN \" + header_line[4] + \" char(4), ADD COLUMN Col int, ADD COLUMN\" + header_line[6] + \" char(5), ADD COLUMN \" + header_line[7] + \" char(4), ADD COLUMN \" + header_line[8] + \" char(5), ADD COLUMN \" + header_line[9] + \" char(4)\" \n",
      "dbconn=psycopg2.connect(host=\"aklpdb22.pfr.co.nz\",user=\"rainshelterwrite\", password=\"luverly Jubbly\", database=\"rainshelter\")\n",
      "dbcursor = dbconn.cursor()\n",
      "dbcursor.execute('begin transaction')\n",
      "dbcursor.execute(add_header_sql)\n",
      "dbconn.commit()"
     ],
     "language": "python",
     "metadata": {},
     "outputs": [],
     "prompt_number": 29
    },
    {
     "cell_type": "code",
     "collapsed": false,
     "input": [
      "with open (sensor_data_file, 'rb') as data_file:\n",
      "    file_data = csv.reader(data_file, delimiter=\",\")\n",
      "    rownum = 0\n",
      "    insert_data_sql=\"\"\n",
      "    for row in file_data:   \n",
      "        if rownum > 0: \n",
      "            #print row\n",
      "            #print data\n",
      "            row[0] = \"'\" + row[0] + \"'\"\n",
      "            row[1] = \"'\" + row[1] + \"'\"\n",
      "            row[2] = \"'\" + row[2] + \"'\"\n",
      "            row[3] = \"'\" + row[3] + \"'\"\n",
      "            row[4] = \"'\" + row[4] + \"'\"\n",
      "            row[6] = \"'\" + row[6] + \"'\"\n",
      "            row[7] = \"'\" + row[7] + \"'\"\n",
      "            row[8] = \"'\" + row[8] + \"'\"\n",
      "            row[9] = \"'\" + row[9] + \"'\"\n",
      "            insert_values = \",\".join(row)\n",
      "            #insert_values = insert_values.replace(\"NAN\", \"NULL\")\n",
      "            #print insert_values\n",
      "            insert_data_sql=\"INSERT INTO betasensorinfo VALUES ( \" + insert_values + \" )\"\n",
      "            #print insert_data_sql\n",
      "            dbconn=psycopg2.connect(host=\"aklpdb22.pfr.co.nz\",user=\"rainshelterwrite\", password=\"luverly Jubbly\", database=\"rainshelter\")\n",
      "            dbcursor = dbconn.cursor()\n",
      "            dbcursor.execute(insert_data_sql)\n",
      "            dbconn.commit()\n",
      "            dbconn.close()\n",
      "      \n",
      "           \n",
      "        rownum+=1\n",
      "data_file.close()"
     ],
     "language": "python",
     "metadata": {},
     "outputs": [],
     "prompt_number": 30
    }
   ],
   "metadata": {}
  }
 ]
}