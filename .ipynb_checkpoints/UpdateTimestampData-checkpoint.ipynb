{
 "metadata": {
  "name": "",
  "signature": "sha256:ff3a812a5b76e17b47d63f7473d2719dd209ada9a700c824fddfbedc1687c31d"
 },
 "nbformat": 3,
 "nbformat_minor": 0,
 "worksheets": [
  {
   "cells": [
    {
     "cell_type": "code",
     "collapsed": false,
     "input": [
      "import pandas as pd\n",
      "import numpy as np\n",
      "import psycopg2\n",
      "import datetime\n",
      "import csv"
     ],
     "language": "python",
     "metadata": {},
     "outputs": [],
     "prompt_number": 55
    },
    {
     "cell_type": "code",
     "collapsed": false,
     "input": [
      "#Establish database connection and create sensor data table\n",
      "dbconn=psycopg2.connect(host=\"aklpdb22.pfr.co.nz\",user=\"rainshelterwrite\", password=\"luverly Jubbly\", database=\"rainshelter\")\n",
      "dbcursor = dbconn.cursor()\n",
      "dbcursor.execute(\"CREATE TABLE testdata()\")\n",
      "dbconn.close()"
     ],
     "language": "python",
     "metadata": {},
     "outputs": [],
     "prompt_number": 60
    },
    {
     "cell_type": "code",
     "collapsed": false,
     "input": [
      "#Open data file and read line line containing column names.\n",
      "sensor_data_file = 'K:\\\\Rainshelter\\\\Barley_2014_15\\\\LoggedData\\\\RainShelterAlpha_CS650.dat'\n",
      "with open (sensor_data_file, 'rb') as data_file:\n",
      "    file_data = csv.reader(data_file, delimiter=\",\")\n",
      "    rownum = 0\n",
      "    for row in file_data:   \n",
      "        if rownum == 1: \n",
      "            header_line = row\n",
      "        rownum+=1\n",
      "data_file.close()"
     ],
     "language": "python",
     "metadata": {},
     "outputs": [],
     "prompt_number": 61
    },
    {
     "cell_type": "code",
     "collapsed": false,
     "input": [
      "#Insert first four columns as data types vary\n",
      "add_header_sql = \"ALTER TABLE testdata ADD COLUMN \" + header_line[0] + \" Timestamp, ADD COLUMN \" + header_line[1] + \" int, ADD COLUMN \" + header_line[2]+ \" double precision, ADD COLUMN \" + header_line[3] + \" double precision\"\n",
      "dbconn=psycopg2.connect(host=\"aklpdb22.pfr.co.nz\",user=\"rainshelterwrite\", password=\"luverly Jubbly\", database=\"rainshelter\")\n",
      "dbcursor = dbconn.cursor()\n",
      "dbcursor.execute(\"CREATE TABLE testdata()\")\n",
      "dbcursor.execute(add_header_sql)\n",
      "dbconn.commit()\n",
      "dbconn.close()\n"
     ],
     "language": "python",
     "metadata": {},
     "outputs": [],
     "prompt_number": 65
    },
    {
     "cell_type": "code",
     "collapsed": false,
     "input": [
      "#Insert first four columns as data types vary\n",
      "add_header_sql = \"ALTER TABLE testdata ADD COLUMN \" + headers[1] + \" Timestamp, ADD COLUMN \" + headers[3] + \" int, ADD COLUMN \" + headers[5]+ \" double precision, ADD COLUMN \" + headers [7] + \" double precision\"\n",
      "dbcursor.execute('begin transaction;')\n",
      "dbcursor.execute(add_header_sql)\n",
      "dbconn.commit()\n"
     ],
     "language": "python",
     "metadata": {},
     "outputs": [],
     "prompt_number": 5
    },
    {
     "cell_type": "code",
     "collapsed": false,
     "input": [
      "#Loop through list of items and use each to create a new column in the sensor data table\n",
      "value_string =\"\"\n",
      "for item in header_line[4:]:\n",
      "      item = '\"' + item + '\"'\n",
      "      insert_header_sql=\"ALTER TABLE testdata ADD COLUMN \" + item + \" char(11)\"\n",
      "      dbconn=psycopg2.connect(host=\"aklpdb22.pfr.co.nz\",user=\"rainshelterwrite\", password=\"luverly Jubbly\", database=\"rainshelter\")\n",
      "      dbcursor = dbconn.cursor()\n",
      "      dbcursor.execute(insert_header_sql)\n",
      "      dbconn.commit()\n",
      "      dbconn.close()\n"
     ],
     "language": "python",
     "metadata": {},
     "outputs": [],
     "prompt_number": 69
    },
    {
     "cell_type": "code",
     "collapsed": false,
     "input": [
      "with open (sensor_data_file, 'rb') as data_file:\n",
      "    file_data = csv.reader(data_file, delimiter=\",\")\n",
      "    rownum = 0\n",
      "    for row in file_data:   \n",
      "        if rownum == 5: \n",
      "            data_line = row\n",
      "            data_line[0] = \"'\" + data_line[0] + \"'\"\n",
      "            #for i in range (len(data_line)):\n",
      "                #column = header_line[i]\n",
      "                #value = data_line[i]\n",
      "                #if value == \"NAN\":\n",
      "                    #value = \"NULL\"\n",
      "            insert_values = \",\".join(data_line)\n",
      "            insert_values = insert_values.replace(\"NAN\", \"NULL\")\n",
      "            insert_data_sql=\"INSERT INTO testdata VALUES ( \" + insert_values + \" );\"\n",
      "            #print insert_data_sql\n",
      "        \n",
      "            dbconn=psycopg2.connect(host=\"aklpdb22.pfr.co.nz\",user=\"rainshelterwrite\", password=\"luverly Jubbly\", database=\"rainshelter\")\n",
      "            dbcursor = dbconn.cursor()\n",
      "            dbcursor.execute(insert_data_sql)\n",
      "            dbconn.commit()\n",
      "            dbconn.close()\n",
      "    rownum+=1\n",
      "data_file.close()"
     ],
     "language": "python",
     "metadata": {},
     "outputs": [
      {
       "ename": "OperationalError",
       "evalue": "row is too big: size 14016, maximum size 8160\n",
       "output_type": "pyerr",
       "traceback": [
        "\u001b[1;31m---------------------------------------------------------------------------\u001b[0m\n\u001b[1;31mOperationalError\u001b[0m                          Traceback (most recent call last)",
        "\u001b[1;32m<ipython-input-88-392186d22082>\u001b[0m in \u001b[0;36m<module>\u001b[1;34m()\u001b[0m\n\u001b[0;32m     17\u001b[0m             \u001b[0mdbconn\u001b[0m\u001b[1;33m=\u001b[0m\u001b[0mpsycopg2\u001b[0m\u001b[1;33m.\u001b[0m\u001b[0mconnect\u001b[0m\u001b[1;33m(\u001b[0m\u001b[0mhost\u001b[0m\u001b[1;33m=\u001b[0m\u001b[1;34m\"aklpdb22.pfr.co.nz\"\u001b[0m\u001b[1;33m,\u001b[0m\u001b[0muser\u001b[0m\u001b[1;33m=\u001b[0m\u001b[1;34m\"rainshelterwrite\"\u001b[0m\u001b[1;33m,\u001b[0m \u001b[0mpassword\u001b[0m\u001b[1;33m=\u001b[0m\u001b[1;34m\"luverly Jubbly\"\u001b[0m\u001b[1;33m,\u001b[0m \u001b[0mdatabase\u001b[0m\u001b[1;33m=\u001b[0m\u001b[1;34m\"rainshelter\"\u001b[0m\u001b[1;33m)\u001b[0m\u001b[1;33m\u001b[0m\u001b[0m\n\u001b[0;32m     18\u001b[0m             \u001b[0mdbcursor\u001b[0m \u001b[1;33m=\u001b[0m \u001b[0mdbconn\u001b[0m\u001b[1;33m.\u001b[0m\u001b[0mcursor\u001b[0m\u001b[1;33m(\u001b[0m\u001b[1;33m)\u001b[0m\u001b[1;33m\u001b[0m\u001b[0m\n\u001b[1;32m---> 19\u001b[1;33m             \u001b[0mdbcursor\u001b[0m\u001b[1;33m.\u001b[0m\u001b[0mexecute\u001b[0m\u001b[1;33m(\u001b[0m\u001b[0minsert_data_sql\u001b[0m\u001b[1;33m)\u001b[0m\u001b[1;33m\u001b[0m\u001b[0m\n\u001b[0m\u001b[0;32m     20\u001b[0m             \u001b[0mdbconn\u001b[0m\u001b[1;33m.\u001b[0m\u001b[0mcommit\u001b[0m\u001b[1;33m(\u001b[0m\u001b[1;33m)\u001b[0m\u001b[1;33m\u001b[0m\u001b[0m\n\u001b[0;32m     21\u001b[0m             \u001b[0mdbconn\u001b[0m\u001b[1;33m.\u001b[0m\u001b[0mclose\u001b[0m\u001b[1;33m(\u001b[0m\u001b[1;33m)\u001b[0m\u001b[1;33m\u001b[0m\u001b[0m\n",
        "\u001b[1;31mOperationalError\u001b[0m: row is too big: size 14016, maximum size 8160\n"
       ]
      }
     ],
     "prompt_number": 88
    }
   ],
   "metadata": {}
  }
 ]
}