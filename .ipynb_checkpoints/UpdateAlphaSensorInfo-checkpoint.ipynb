{
 "metadata": {
  "name": "",
  "signature": "sha256:9988208c303036f104922ba36d9026e0a7f974f5e2a1fb695bdc40b865408824"
 },
 "nbformat": 3,
 "nbformat_minor": 0,
 "worksheets": [
  {
   "cells": [
    {
     "cell_type": "code",
     "collapsed": false,
     "input": [
      "import psycopg2\n",
      "import datetime\n",
      "import csv"
     ],
     "language": "python",
     "metadata": {},
     "outputs": [],
     "prompt_number": 1
    },
    {
     "cell_type": "code",
     "collapsed": false,
     "input": [
      "#Establish database connection and create sensor data table\n",
      "dbconn=psycopg2.connect(host=\"aklpdb22.pfr.co.nz\",user=\"rainshelterwrite\", password=\"luverly Jubbly\", database=\"rainshelter\")\n",
      "dbcursor = dbconn.cursor()\n",
      "dbcursor.execute('begin transaction')\n",
      "dbcursor.execute(\"CREATE TABLE sensorinfo()\")\n",
      "dbconn.commit()\n",
      "dbconn.close()"
     ],
     "language": "python",
     "metadata": {},
     "outputs": [],
     "prompt_number": 14
    },
    {
     "cell_type": "code",
     "collapsed": false,
     "input": [
      "#Open data file and read line line containing column names.\n",
      "sensor_data_file = 'C:\\\\GitHubRepos\\RainShelterBarley\\SoilWaterAndTempIndex.csv'\n",
      "with open (sensor_data_file, 'rb') as data_file:\n",
      "    file_data = csv.reader(data_file, delimiter=\",\")\n",
      "    rownum = 0\n",
      "    for row in file_data:   \n",
      "        if rownum == 0: \n",
      "            header_line = row\n",
      "        rownum+=1\n",
      "data_file.close()\n",
      "print header_line"
     ],
     "language": "python",
     "metadata": {},
     "outputs": [
      {
       "output_type": "stream",
       "stream": "stdout",
       "text": [
        "['ColumnHeader', 'Measurement', 'Cultivar', 'Irrigation', 'Treatment', 'Depth', 'Plot', 'Block', 'Sensor', 'Units', 'Summary', 'MUX', 'Port']\n"
       ]
      }
     ],
     "prompt_number": 15
    },
    {
     "cell_type": "code",
     "collapsed": false,
     "input": [
      "#Insert column header \n",
      "add_header_sql = \"ALTER TABLE sensorinfo ADD COLUMN sensorid varchar NOT NULL, ADD COLUMN \" + header_line[1] + \" varchar, ADD COLUMN \" + header_line[2] + \" char(5), ADD COLUMN \" + header_line[3]+ \" char(4), ADD COLUMN \" + header_line[4] + \" int, ADD COLUMN \" + header_line[5] +  \" varchar, ADD COLUMN \" + header_line[6] + \" int, ADD COLUMN \" + header_line[7] + \" int, ADD COLUMN \" + header_line[8] + \" int, ADD COLUMN \" + header_line[9] + \" varchar, ADD COLUMN \" + header_line[10] + \" char(4), ADD COLUMN \" + header_line[11] + \" int, ADD COLUMN \" + header_line[12] + \" int\"\n",
      "dbconn=psycopg2.connect(host=\"aklpdb22.pfr.co.nz\",user=\"rainshelterwrite\", password=\"luverly Jubbly\", database=\"rainshelter\")\n",
      "dbcursor = dbconn.cursor()\n",
      "dbcursor.execute('begin transaction')\n",
      "dbcursor.execute(add_header_sql)\n",
      "dbconn.commit()"
     ],
     "language": "python",
     "metadata": {},
     "outputs": [],
     "prompt_number": 16
    },
    {
     "cell_type": "code",
     "collapsed": false,
     "input": [
      "with open (sensor_data_file, 'rb') as data_file:\n",
      "    file_data = csv.reader(data_file, delimiter=\",\")\n",
      "    rownum = 0\n",
      "    insert_data_sql=\"\"\n",
      "    for row in file_data:   \n",
      "        if rownum > 0: \n",
      "            #print row\n",
      "            #print data\n",
      "            row[0] = \"'\" + row[0] + \"'\"\n",
      "            row[1] = \"'\" + row[1] + \"'\"\n",
      "            row[2] = \"'\" + row[2] + \"'\"\n",
      "            row[3] = \"'\" + row[3] + \"'\"\n",
      "            row[5] = \"'\" + row[5] + \"'\"\n",
      "            row[9] = \"'\" + row[9] + \"'\"\n",
      "            row[10] = \"'\" + row[10] + \"'\"\n",
      "            insert_values = \",\".join(row)\n",
      "            #insert_values = insert_values.replace(\"NAN\", \"NULL\")\n",
      "            #print insert_values\n",
      "            insert_data_sql=\"INSERT INTO sensorinfo VALUES ( \" + insert_values + \" )\"\n",
      "            #print insert_data_sql\n",
      "            dbconn=psycopg2.connect(host=\"aklpdb22.pfr.co.nz\",user=\"rainshelterwrite\", password=\"luverly Jubbly\", database=\"rainshelter\")\n",
      "            dbcursor = dbconn.cursor()\n",
      "            dbcursor.execute(insert_data_sql)\n",
      "            dbconn.commit()\n",
      "            dbconn.close()\n",
      "      \n",
      "           \n",
      "        rownum+=1\n",
      "data_file.close()"
     ],
     "language": "python",
     "metadata": {},
     "outputs": [],
     "prompt_number": 31
    }
   ],
   "metadata": {}
  }
 ]
}